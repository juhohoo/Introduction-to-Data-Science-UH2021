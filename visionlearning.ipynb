{
 "cells": [
  {
   "cell_type": "code",
   "execution_count": 1,
   "metadata": {},
   "outputs": [
    {
     "name": "stdout",
     "output_type": "stream",
     "text": [
      "(49587, 4)\n"
     ]
    },
    {
     "data": {
      "text/html": [
       "<div>\n",
       "<style scoped>\n",
       "    .dataframe tbody tr th:only-of-type {\n",
       "        vertical-align: middle;\n",
       "    }\n",
       "\n",
       "    .dataframe tbody tr th {\n",
       "        vertical-align: top;\n",
       "    }\n",
       "\n",
       "    .dataframe thead th {\n",
       "        text-align: right;\n",
       "    }\n",
       "</style>\n",
       "<table border=\"1\" class=\"dataframe\">\n",
       "  <thead>\n",
       "    <tr style=\"text-align: right;\">\n",
       "      <th></th>\n",
       "      <th>duration</th>\n",
       "      <th>wardsplaced</th>\n",
       "      <th>wardskilled</th>\n",
       "      <th>visionscore</th>\n",
       "    </tr>\n",
       "  </thead>\n",
       "  <tbody>\n",
       "    <tr>\n",
       "      <th>1</th>\n",
       "      <td>1693</td>\n",
       "      <td>52.0</td>\n",
       "      <td>8.0</td>\n",
       "      <td>84.0</td>\n",
       "    </tr>\n",
       "    <tr>\n",
       "      <th>2</th>\n",
       "      <td>1482</td>\n",
       "      <td>44.0</td>\n",
       "      <td>2.0</td>\n",
       "      <td>62.0</td>\n",
       "    </tr>\n",
       "    <tr>\n",
       "      <th>5</th>\n",
       "      <td>1593</td>\n",
       "      <td>44.0</td>\n",
       "      <td>3.0</td>\n",
       "      <td>87.0</td>\n",
       "    </tr>\n",
       "    <tr>\n",
       "      <th>6</th>\n",
       "      <td>1589</td>\n",
       "      <td>36.0</td>\n",
       "      <td>4.0</td>\n",
       "      <td>58.0</td>\n",
       "    </tr>\n",
       "    <tr>\n",
       "      <th>7</th>\n",
       "      <td>1664</td>\n",
       "      <td>48.0</td>\n",
       "      <td>2.0</td>\n",
       "      <td>69.0</td>\n",
       "    </tr>\n",
       "  </tbody>\n",
       "</table>\n",
       "</div>"
      ],
      "text/plain": [
       "   duration  wardsplaced  wardskilled  visionscore\n",
       "1      1693         52.0          8.0         84.0\n",
       "2      1482         44.0          2.0         62.0\n",
       "5      1593         44.0          3.0         87.0\n",
       "6      1589         36.0          4.0         58.0\n",
       "7      1664         48.0          2.0         69.0"
      ]
     },
     "execution_count": 1,
     "metadata": {},
     "output_type": "execute_result"
    }
   ],
   "source": [
    "import matplotlib.pyplot as plt\n",
    "import numpy as np\n",
    "import pandas as pd\n",
    "import seaborn as sns\n",
    "import tensorflow as tf\n",
    "\n",
    "from tensorflow import keras\n",
    "from tensorflow.keras import layers\n",
    "\n",
    "vision = pd.read_csv(\"vision.zip\")\n",
    "del vision[\"Unnamed: 0\"]\n",
    "del vision[\"id\"]\n",
    "del vision[\"wardslost\"]\n",
    "\n",
    "vision = vision[vision['visionscore'] != 0]\n",
    "vision = vision[vision['duration'] > 600]\n",
    "vision = vision[vision['duration'] < 1800]\n",
    "\n",
    "print(vision.shape)\n",
    "vision.head()"
   ]
  },
  {
   "cell_type": "code",
   "execution_count": 2,
   "metadata": {},
   "outputs": [],
   "source": [
    "vision_train = vision.sample(frac=0.8, random_state=0)\n",
    "vision_test = vision.drop(vision_train.index)\n",
    "\n",
    "train_features = vision_train.copy()\n",
    "test_features = vision_test.copy()\n",
    "\n",
    "train_labels = train_features.pop('visionscore')\n",
    "test_labels = test_features.pop('visionscore')"
   ]
  },
  {
   "cell_type": "code",
   "execution_count": 3,
   "metadata": {},
   "outputs": [],
   "source": [
    "normalizer = tf.keras.layers.experimental.preprocessing.Normalization(axis=-1)\n",
    "normalizer.adapt(np.array(train_features))"
   ]
  },
  {
   "cell_type": "code",
   "execution_count": 4,
   "metadata": {},
   "outputs": [],
   "source": [
    "model = keras.Sequential([\n",
    "    normalizer,\n",
    "    layers.Dense(64, activation='relu'),\n",
    "    layers.Dense(64, activation='relu'),\n",
    "    layers.Dense(1)\n",
    "])\n",
    "\n",
    "model.compile(loss='mean_absolute_error',\n",
    "    optimizer=tf.keras.optimizers.Adam(0.001))"
   ]
  },
  {
   "cell_type": "code",
   "execution_count": 5,
   "metadata": {},
   "outputs": [
    {
     "name": "stdout",
     "output_type": "stream",
     "text": [
      "Epoch 1/50\n",
      "992/992 - 1s - loss: 19.6253 - val_loss: 8.8796\n",
      "Epoch 2/50\n",
      "992/992 - 1s - loss: 8.8250 - val_loss: 8.7403\n",
      "Epoch 3/50\n",
      "992/992 - 1s - loss: 8.7635 - val_loss: 8.7277\n",
      "Epoch 4/50\n",
      "992/992 - 1s - loss: 8.7298 - val_loss: 8.6840\n",
      "Epoch 5/50\n",
      "992/992 - 1s - loss: 8.7014 - val_loss: 8.6870\n",
      "Epoch 6/50\n",
      "992/992 - 1s - loss: 8.6829 - val_loss: 8.5720\n",
      "Epoch 7/50\n",
      "992/992 - 1s - loss: 8.6559 - val_loss: 8.5608\n",
      "Epoch 8/50\n",
      "992/992 - 1s - loss: 8.6373 - val_loss: 8.5785\n",
      "Epoch 9/50\n",
      "992/992 - 1s - loss: 8.6297 - val_loss: 8.5695\n",
      "Epoch 10/50\n",
      "992/992 - 1s - loss: 8.6338 - val_loss: 8.5167\n",
      "Epoch 11/50\n",
      "992/992 - 1s - loss: 8.5878 - val_loss: 8.5533\n",
      "Epoch 12/50\n",
      "992/992 - 1s - loss: 8.5665 - val_loss: 8.4844\n",
      "Epoch 13/50\n",
      "992/992 - 1s - loss: 8.5279 - val_loss: 8.4523\n",
      "Epoch 14/50\n",
      "992/992 - 1s - loss: 8.4830 - val_loss: 8.4767\n",
      "Epoch 15/50\n",
      "992/992 - 1s - loss: 8.4790 - val_loss: 8.3924\n",
      "Epoch 16/50\n",
      "992/992 - 1s - loss: 8.4640 - val_loss: 8.4542\n",
      "Epoch 17/50\n",
      "992/992 - 1s - loss: 8.4633 - val_loss: 8.5477\n",
      "Epoch 18/50\n",
      "992/992 - 1s - loss: 8.4649 - val_loss: 8.4252\n",
      "Epoch 19/50\n",
      "992/992 - 1s - loss: 8.4542 - val_loss: 8.3920\n",
      "Epoch 20/50\n",
      "992/992 - 1s - loss: 8.4573 - val_loss: 8.4951\n",
      "Epoch 21/50\n",
      "992/992 - 1s - loss: 8.4522 - val_loss: 8.4548\n",
      "Epoch 22/50\n",
      "992/992 - 1s - loss: 8.4426 - val_loss: 8.4570\n",
      "Epoch 23/50\n",
      "992/992 - 1s - loss: 8.4562 - val_loss: 8.3910\n",
      "Epoch 24/50\n",
      "992/992 - 1s - loss: 8.4498 - val_loss: 8.4161\n",
      "Epoch 25/50\n",
      "992/992 - 1s - loss: 8.4412 - val_loss: 8.5275\n",
      "Epoch 26/50\n",
      "992/992 - 1s - loss: 8.4576 - val_loss: 8.3963\n",
      "Epoch 27/50\n",
      "992/992 - 1s - loss: 8.4431 - val_loss: 8.3917\n",
      "Epoch 28/50\n",
      "992/992 - 1s - loss: 8.4472 - val_loss: 8.4608\n",
      "Epoch 29/50\n",
      "992/992 - 1s - loss: 8.4432 - val_loss: 8.3762\n",
      "Epoch 30/50\n",
      "992/992 - 1s - loss: 8.4488 - val_loss: 8.4029\n",
      "Epoch 31/50\n",
      "992/992 - 1s - loss: 8.4439 - val_loss: 8.4291\n",
      "Epoch 32/50\n",
      "992/992 - 1s - loss: 8.4376 - val_loss: 8.4045\n",
      "Epoch 33/50\n",
      "992/992 - 1s - loss: 8.4478 - val_loss: 8.4080\n",
      "Epoch 34/50\n",
      "992/992 - 1s - loss: 8.4448 - val_loss: 8.3832\n",
      "Epoch 35/50\n",
      "992/992 - 1s - loss: 8.4460 - val_loss: 8.4527\n",
      "Epoch 36/50\n",
      "992/992 - 1s - loss: 8.4453 - val_loss: 8.4994\n",
      "Epoch 37/50\n",
      "992/992 - 1s - loss: 8.4393 - val_loss: 8.3810\n",
      "Epoch 38/50\n",
      "992/992 - 1s - loss: 8.4441 - val_loss: 8.4609\n",
      "Epoch 39/50\n",
      "992/992 - 1s - loss: 8.4380 - val_loss: 8.5087\n",
      "Epoch 40/50\n",
      "992/992 - 1s - loss: 8.4363 - val_loss: 8.4286\n",
      "Epoch 41/50\n",
      "992/992 - 1s - loss: 8.4249 - val_loss: 8.4155\n",
      "Epoch 42/50\n",
      "992/992 - 1s - loss: 8.4341 - val_loss: 8.3778\n",
      "Epoch 43/50\n",
      "992/992 - 1s - loss: 8.4448 - val_loss: 8.4747\n",
      "Epoch 44/50\n",
      "992/992 - 1s - loss: 8.4389 - val_loss: 8.4098\n",
      "Epoch 45/50\n",
      "992/992 - 1s - loss: 8.4346 - val_loss: 8.3800\n",
      "Epoch 46/50\n",
      "992/992 - 1s - loss: 8.4298 - val_loss: 8.4011\n",
      "Epoch 47/50\n",
      "992/992 - 1s - loss: 8.4408 - val_loss: 8.3961\n",
      "Epoch 48/50\n",
      "992/992 - 1s - loss: 8.4387 - val_loss: 8.3820\n",
      "Epoch 49/50\n",
      "992/992 - 1s - loss: 8.4365 - val_loss: 8.4341\n",
      "Epoch 50/50\n",
      "992/992 - 1s - loss: 8.4377 - val_loss: 8.7315\n",
      "CPU times: user 54.5 s, sys: 24.5 s, total: 1min 18s\n",
      "Wall time: 43.1 s\n"
     ]
    }
   ],
   "source": [
    "%%time\n",
    "history = model.fit(\n",
    "    train_features,\n",
    "    train_labels,\n",
    "    validation_split=0.2,\n",
    "    verbose=2, epochs=50)"
   ]
  },
  {
   "cell_type": "code",
   "execution_count": 6,
   "metadata": {},
   "outputs": [
    {
     "name": "stdout",
     "output_type": "stream",
     "text": [
      "310/310 - 0s - loss: 8.8062\n"
     ]
    }
   ],
   "source": [
    "results = model.evaluate(test_features, test_labels, verbose=2)"
   ]
  },
  {
   "cell_type": "code",
   "execution_count": 7,
   "metadata": {},
   "outputs": [
    {
     "data": {
      "image/png": "[encoded data removed]",
      "text/plain": [
       "<Figure size 432x288 with 1 Axes>"
      ]
     },
     "metadata": {
      "needs_background": "light"
     },
     "output_type": "display_data"
    }
   ],
   "source": [
    "plt.plot(history.history['loss'], label='loss')\n",
    "plt.plot(history.history['val_loss'], label='val_loss')\n",
    "plt.ylim([8, 10])\n",
    "plt.xlabel('Epoch')\n",
    "plt.ylabel('Vision Score Error')\n",
    "plt.legend()\n",
    "plt.grid(True)"
   ]
  },
  {
   "cell_type": "code",
   "execution_count": 8,
   "metadata": {},
   "outputs": [
    {
     "data": {
      "text/plain": [
       "[]"
      ]
     },
     "execution_count": 8,
     "metadata": {},
     "output_type": "execute_result"
    },
    {
     "data": {
      "image/png": "[encoded data removed]",
      "text/plain": [
       "<Figure size 432x288 with 1 Axes>"
      ]
     },
     "metadata": {
      "needs_background": "light"
     },
     "output_type": "display_data"
    }
   ],
   "source": [
    "test_predictions = model.predict(test_features).flatten()\n",
    "\n",
    "a = plt.axes(aspect='equal')\n",
    "plt.scatter(test_labels, test_predictions)\n",
    "plt.xlabel('True Vision Score')\n",
    "plt.ylabel('Predicted Vision Score')\n",
    "plt.plot()"
   ]
  },
  {
   "cell_type": "code",
   "execution_count": 9,
   "metadata": {},
   "outputs": [
    {
     "data": {
      "image/png": "[encoded data removed]",
      "text/plain": [
       "<Figure size 432x288 with 1 Axes>"
      ]
     },
     "metadata": {
      "needs_background": "light"
     },
     "output_type": "display_data"
    }
   ],
   "source": [
    "error = test_predictions - test_labels\n",
    "plt.hist(error, bins=25)\n",
    "plt.xlabel('Prediction Error - Absolute')\n",
    "_ = plt.ylabel('Count')"
   ]
  },
  {
   "cell_type": "code",
   "execution_count": 10,
   "metadata": {},
   "outputs": [
    {
     "data": {
      "image/png": "[encoded data removed]",
      "text/plain": [
       "<Figure size 432x288 with 1 Axes>"
      ]
     },
     "metadata": {
      "needs_background": "light"
     },
     "output_type": "display_data"
    }
   ],
   "source": [
    "error = test_predictions / test_labels\n",
    "plt.hist(error, bins=25)\n",
    "plt.xlabel('Prediction Error - Ratio')\n",
    "_ = plt.ylabel('Count')"
   ]
  },
  {
   "cell_type": "code",
   "execution_count": 11,
   "metadata": {},
   "outputs": [
    {
     "data": {
      "text/plain": [
       "[<matplotlib.lines.Line2D at 0x7fe1dc7e0c40>]"
      ]
     },
     "execution_count": 11,
     "metadata": {},
     "output_type": "execute_result"
    },
    {
     "data": {
      "image/png": "[encoded data removed]",
      "text/plain": [
       "<Figure size 432x288 with 1 Axes>"
      ]
     },
     "metadata": {
      "needs_background": "light"
     },
     "output_type": "display_data"
    }
   ],
   "source": [
    "rankedRaw = pd.read_csv(\"high_diamond_ranked_10min.csv.zip\")\n",
    "ranked = rankedRaw.copy()\n",
    "ranked[\"duration\"] = 600\n",
    "blue = ranked[['duration','blueWardsPlaced', 'blueWardsDestroyed']]\n",
    "prediction = model.predict(blue).flatten()\n",
    "plt.plot(prediction)\n",
    "rankedRaw['blueVisionEstimate'] = prediction\n",
    "red = ranked[['duration','redWardsPlaced', 'redWardsDestroyed']]\n",
    "prediction = model.predict(red).flatten()\n",
    "rankedRaw['redVisionEstimate'] = prediction\n",
    "plt.plot(prediction)"
   ]
  },
  {
   "cell_type": "code",
   "execution_count": 12,
   "metadata": {},
   "outputs": [
    {
     "name": "stdout",
     "output_type": "stream",
     "text": [
      "WARNING:tensorflow:From /opt/conda/lib/python3.8/site-packages/tensorflow/python/training/tracking/tracking.py:111: Model.state_updates (from tensorflow.python.keras.engine.training) is deprecated and will be removed in a future version.\n",
      "Instructions for updating:\n",
      "This property should not be used in TensorFlow 2.0, as updates are applied automatically.\n",
      "WARNING:tensorflow:From /opt/conda/lib/python3.8/site-packages/tensorflow/python/training/tracking/tracking.py:111: Layer.updates (from tensorflow.python.keras.engine.base_layer) is deprecated and will be removed in a future version.\n",
      "Instructions for updating:\n",
      "This property should not be used in TensorFlow 2.0, as updates are applied automatically.\n",
      "INFO:tensorflow:Assets written to: visionmodel3/assets\n"
     ]
    }
   ],
   "source": [
    "model.save(\"visionmodel3\")\n",
    "c_o = dict(method='zip',\n",
    "    archive_name='estimate3.csv')  \n",
    "rankedRaw.to_csv(\"estimate3.zip\", index=True, compression=c_o)"
   ]
  }
 ],
 "metadata": {
  "kernelspec": {
   "display_name": "Python 3",
   "language": "python",
   "name": "python3"
  },
  "language_info": {
   "codemirror_mode": {
    "name": "ipython",
    "version": 3
   },
   "file_extension": ".py",
   "mimetype": "text/x-python",
   "name": "python",
   "nbconvert_exporter": "python",
   "pygments_lexer": "ipython3",
   "version": "3.8.5"
  }
 },
 "nbformat": 4,
 "nbformat_minor": 4
}
